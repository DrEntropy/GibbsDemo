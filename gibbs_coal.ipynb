{
 "cells": [
  {
   "cell_type": "code",
   "execution_count": 4,
   "metadata": {},
   "outputs": [],
   "source": [
    "\n",
    "import numpy as np\n",
    "import scipy.stats as stats\n",
    "import matplotlib.pyplot as plt"
   ]
  },
  {
   "cell_type": "code",
   "execution_count": 6,
   "metadata": {},
   "outputs": [
    {
     "data": {
      "text/plain": [
       "[<matplotlib.lines.Line2D at 0x3359cd7f0>]"
      ]
     },
     "execution_count": 6,
     "metadata": {},
     "output_type": "execute_result"
    },
    {
     "data": {
      "image/png": "[encoded data removed]",
      "text/plain": [
       "<Figure size 1000x600 with 1 Axes>"
      ]
     },
     "metadata": {},
     "output_type": "display_data"
    }
   ],
   "source": [
    "data = np.loadtxt(\"gibbs_coal.csv\", delimiter=\",\",skiprows=1)\n",
    "plt.figure(figsize=(10, 6))\n",
    "plt.plot(data[:, 0], data[:, 1], 'o', markersize=4, label='Data')"
   ]
  },
  {
   "cell_type": "markdown",
   "metadata": {},
   "source": [
    "The model will be a Poission distribution with rate parameter $\\lambda_1$ if $t<= n$ and $\\lambda_2$ if $t>n$. The model is given by:\n",
    "$$\n",
    "\\begin{align*}\n",
    "D_t \\sim \\begin{cases}\n",
    " \\text{Poisson}(\\lambda_1) & \\text{if } t \\leq n \\\\\n",
    " \\text{Poisson}(\\lambda_2) & \\text{if } t > n\n",
    "\\end{cases}\n",
    "\\end{align*}\n",
    "$$\n",
    "\n",
    "We aim to determine the posterior for $n$, $\\lambda_1$, and $\\lambda_2$ given the observed data $D_t$.\n",
    "We will use a conjugate prior for the Poisson distribution, which is a gamma distribution. $\\Gamma(a, b)$  \n",
    "\n",
    "From this we can write down the full unnormalized posterior (noting that the prior on n is uniform so drops out in the unnormalized posterior):\n",
    "$$\n",
    "\\begin{align*}\n",
    "p(n, \\lambda_1, \\lambda_2 | D) &\\propto p(D | n, \\lambda_1, \\lambda_2) p(n) p(\\lambda_1) p(\\lambda_2) \\\\\n",
    "&= \\prod_{t=1}^n \\frac{\\lambda_1^{D_t} e^{-\\lambda_1}}{D_t!} \\prod_{t=n+1}^{N} \\frac{\\lambda_2^{D_t} e^{-\\lambda_2}}{D_t!} \\Gamma(\\lambda_1; a, b) \\Gamma(\\lambda_2; a, b) \\\\    \n",
    "\\end{align*}\n",
    "$$\n",
    "\n",
    "Expanding the gamma distribution and dropping normalization constants, we have:\n",
    "\n",
    "$$\n",
    "\\begin{align*}\n",
    "p(n, \\lambda_1, \\lambda_2 | D) &\\propto \\prod_{t=1}^n \\lambda_1^{D_t} e^{-\\lambda_1}  \\prod_{t=n+1}^{N}  \\lambda_2^{D_t} e^{-\\lambda_2} \\Gamma(\\lambda_1; a, b) \\Gamma(\\lambda_2; a, b) \\\\\n",
    "&= \\prod_{t=1}^n \\lambda_1^{D_t} e^{-\\lambda_1} \\prod_{t=n+1}^{N} \\lambda_2^{D_t} e^{-\\lambda_2}  \\lambda_1^{a-1} e^{-b\\lambda_1}  \\lambda_2^{a-1} e^{-b\\lambda_2} \\\\\n",
    "&= \\lambda_1^{\\sum_{t=1}^n D_t + a - 1} e^{-(b+n)\\lambda_1} \\lambda_2^{\\sum_{t=n+1}^{N} D_t + a - 1} e^{-(b+(N-n)\\lambda_2} \\\\\n",
    "&= \\Gamma(\\lambda_1; \\sum_{t=1}^n D_t + a, b+n) \\times \\Gamma(\\lambda_2; \\sum_{t=n+1}^{N} D_t + a, b+(N-n)) \\\\\n",
    "\\end{align*}\n"
   ]
  },
  {
   "cell_type": "markdown",
   "metadata": {},
   "source": [
    "From this we can read off the conditional posterior distributions for $\\lambda_1$ and $\\lambda_2$, but we need to also determine the conditional posterior for $n$.  We can proceed by first gathering all the terms that only depend on $n$:\n",
    "\n",
    "$$\n",
    "\\begin{align*}\n",
    "p(n | D, \\lambda_1, \\lambda_2) &\\propto  \\lambda_1^{\\sum_{t=1}^n D_t} e^{-n \\lambda_1} \\lambda_2^{\\sum_{t=n+1}^{N} D_t} e^{-(N-n) \\lambda_2} \\\\\n",
    "\\end{align*}\n",
    "$$\n",
    "\n",
    "We can normalize this by summing over all possible values of $n$ when we do this in the Gibbs sampler"
   ]
  },
  {
   "cell_type": "markdown",
   "metadata": {},
   "source": []
  },
  {
   "cell_type": "code",
   "execution_count": null,
   "metadata": {},
   "outputs": [],
   "source": []
  }
 ],
 "metadata": {
  "kernelspec": {
   "display_name": "pb",
   "language": "python",
   "name": "python3"
  },
  "language_info": {
   "codemirror_mode": {
    "name": "ipython",
    "version": 3
   },
   "file_extension": ".py",
   "mimetype": "text/x-python",
   "name": "python",
   "nbconvert_exporter": "python",
   "pygments_lexer": "ipython3",
   "version": "3.12.8"
  }
 },
 "nbformat": 4,
 "nbformat_minor": 2
}
